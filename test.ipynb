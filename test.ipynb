{
 "cells": [
  {
   "cell_type": "code",
   "execution_count": 1,
   "metadata": {},
   "outputs": [
    {
     "name": "stdout",
     "output_type": "stream",
     "text": [
      "[{'role': 'user', 'content': 'Hola', 'timestamp': '2024-07-14T16:34:30.146629', 'message_id_': 'wamid.HBgLNTY5OTkzMTk2MDYVAgASGCAyRDcxNjI2QTVGOUIxOUZCQjQ3NDM2ODJFRUM2OUQwOQA=', 'type': 'text'}, {'role': 'assistant', 'content': '¡Hola! ¿En qué puedo ayudarte hoy? Estoy aquí para ayudarte con cualquier pregunta o tarea que tengas.', 'timestamp': '2024-07-14T16:34:31.382639', 'message_id_': 'wamid.HBgLNTY5OTkzMTk2MDYVAgASGCAyRDcxNjI2QTVGOUIxOUZCQjQ3NDM2ODJFRUM2OUQwOQA='}, {'role': 'user', 'content': 'Me llamo Francisco, cual es mi nombre', 'timestamp': '2024-07-14T16:35:09.028746', 'message_id_': 'wamid.HBgLNTY5OTkzMTk2MDYVAgASGCBCMkY2N0FENTQ0MzI3MzczRkE3QTEzOTc0QTU1MjdCQQA='}, {'role': 'assistant', 'content': '¡Hola! ¿En qué puedo ayudarte hoy? Estoy aquí para servirle y responder a todas sus preguntas. ¡Sentirme útil es mi objetivo!', 'timestamp': '2024-07-14T16:35:09.812386', 'message_id_': 'wamid.HBgLNTY5OTkzMTk2MDYVAgASGCBCMkY2N0FENTQ0MzI3MzczRkE3QTEzOTc0QTU1MjdCQQA='}, {'role': 'user', 'content': 'Cual es mi nombre', 'timestamp': '2024-07-14T16:35:22.987234', 'message_id_': 'wamid.HBgLNTY5OTkzMTk2MDYVAgASGCBGRjRFQkY1MEI1QTI0NkVEMzhBNTIwMDI0RTlBMTgyMwA='}, {'role': 'assistant', 'content': 'Hola! ¡Bienvenido! ¿En qué puedo ayudarte hoy? (Hello! Welcome! How can I help you today?)', 'timestamp': '2024-07-14T16:35:23.780806', 'message_id_': 'wamid.HBgLNTY5OTkzMTk2MDYVAgASGCBGRjRFQkY1MEI1QTI0NkVEMzhBNTIwMDI0RTlBMTgyMwA='}, {'role': 'user', 'content': 'cual es mi nombre', 'timestamp': '2024-07-14T16:40:44.121208', 'message_id_': 'sfjdsfjfjdsfjssadsdsafdjfjdsf'}]\n",
      "False\n",
      "336050666261796\n",
      "¡Ahah! Francisco, ¡eso es fácil!\n",
      "EAAGqu8DudVIBO4lsQNbvqsM17SLOHkojgA9R7Gj4PLYJzh7tiViCZALTqqTj7tHLsj8t0Qfkin3AQZAERhgmqjQ29OMbFcGtIZA4CoB5FYHDj3torfeyCb1HzZBZAeOlb8G5orfYUksZAU71fslT1JvCpyNRVmvsViHHVJvHTY77t0DPoOkls1ZBE5q45ucENnx16r7LuIDoSxnJACJNddQDuGmOmKZCxQJS6owzlGkZD\n",
      "{'status_code': 200, 'response': <Response [200]>}\n"
     ]
    },
    {
     "data": {
      "text/plain": [
       "'{\"status_code\": 200, \"response\": \"Message sent\"}'"
      ]
     },
     "execution_count": 1,
     "metadata": {},
     "output_type": "execute_result"
    }
   ],
   "source": [
    "import os\n",
    "from dotenv import load_dotenv\n",
    "from datetime import datetime\n",
    "import uuid\n",
    "import requests\n",
    "import json\n",
    "from azure.cosmos.exceptions import CosmosResourceNotFoundError\n",
    "from datetime import datetime, timedelta\n",
    "from whatsapp_apis.whatsapp import WhatsappAPI\n",
    "from whatsapp_apis.llm import GroqModel\n",
    "from whatsapp_apis.cosmos_database import CosmoDataBase\n",
    "from pytz import timezone\n",
    "import pytz\n",
    "from datetime import datetime, timedelta\n",
    "import logging\n",
    "\n",
    "load_dotenv()\n",
    "\n",
    "class PostWebhook:\n",
    "\n",
    "    def __init__(self):\n",
    "        self.db_container_user = os.getenv('COSMOS_DB_CONTAINER_USER')\n",
    "        self.db_container_chat_history = os.getenv('COSMOS_DB_CONTAINER_CHAT_HISTORY')\n",
    "        self.access_token = os.getenv('PERMANENT_TOKEN_FACEBOOK')\n",
    "        self.code_phone_from = os.getenv('CODE_PHONE_FROM')\n",
    "        self.cosmos_db = CosmoDataBase() \n",
    "        \n",
    "    def main(self):\n",
    "        \n",
    "\n",
    "        body = {}\n",
    "        recipient_id = '56999319606'\n",
    "        message_id_ = 'sfjdsfjfjdsfjssadsdsafdjfjdsf'\n",
    "        import time\n",
    "        # Get the current Unix timestamp\n",
    "        timestamp_ = int(time.time())              \n",
    "        text_ = 'cual es mi nombre'\n",
    "        type_ = 'text'\n",
    "        metadata_ = ''\n",
    "        json_response = {'from': recipient_id, 'message_id': message_id_, 'timestamp': timestamp_, 'text': text_, 'type': type_, 'metadata': metadata_, 'typeuser': 'user'}\n",
    "        \n",
    "        # Paso 2 - Detectar si existe una conversacion anterior en Cosmos DB, sino  crearla.    \n",
    "        response_detection_cosmo = self.cosmos_db.get_save_cosmos_db_history_chat(self.db_container_chat_history, json_response)\n",
    "        history_ = response_detection_cosmo['history']\n",
    "\n",
    "        # Paso 3 - Genearar una respuesta del modelo LLM.   \n",
    "        response_llm_modelo = GroqModel(history_).main()['message']\n",
    "        print(history_)\n",
    "        current_timestamp = datetime.utcnow().isoformat()\n",
    "        json_response_assistant = {'from': recipient_id, 'message_id': message_id_, 'timestamp': current_timestamp, 'text': response_llm_modelo, 'type': type_, 'metadata': {}, 'typeuser': 'assistant'}\n",
    "        response_db_assitante = self.cosmos_db.get_save_cosmos_db_history_chat(self.db_container_chat_history, json_response_assistant)\n",
    "        print(response_db_assitante['replacted'])\n",
    "        print(self.code_phone_from)\n",
    "        print(response_llm_modelo)\n",
    "        print(self.access_token)\n",
    "        if response_db_assitante['replacted'] == False:\n",
    "            \n",
    "            # Paso 4 - Enviar respuesta al usuario.  \n",
    "            response_send_message = WhatsappAPI(body).text_message(self.access_token, recipient_id, self.code_phone_from, response_llm_modelo)\n",
    "            print(response_send_message)\n",
    "            return json.dumps({'status_code': 200, 'response': 'Message sent'})\n",
    "        else:\n",
    "            return json.dumps({'status_code': 200, 'response': 'Message already sent'})\n",
    "    \n",
    "\n",
    "\n",
    "response = PostWebhook().main()\n",
    "response"
   ]
  },
  {
   "cell_type": "code",
   "execution_count": 9,
   "metadata": {},
   "outputs": [],
   "source": [
    "body_ = {\n",
    "        \"object\": \"whatsapp_business_account\",\n",
    "        \"entry\": [\n",
    "            {\n",
    "                \"id\": \"380441975145057\",\n",
    "                \"changes\": [\n",
    "                    {\n",
    "                        \"value\": {\n",
    "                            \"messaging_product\": \"whatsapp\",\n",
    "                            \"metadata\": {\n",
    "                                \"display_phone_number\": \"56958381267\",\n",
    "                                \"phone_number_id\": \"336050666261796\"\n",
    "                            },\n",
    "                            \"contacts\": [\n",
    "                                {\n",
    "                                    \"profile\": {\n",
    "                                        \"name\": \"Foco\"\n",
    "                                    },\n",
    "                                    \"wa_id\": \"56999319606\"\n",
    "                                }\n",
    "                            ],\n",
    "                            \"messages\": [\n",
    "                                {\n",
    "                                    \"from\": \"56999319606\",\n",
    "                                    \"id\": \"wamid.HBgLNTY5OTkzMTk2MDYVAgASGCA3NUFCNEVDOURDNDkwMEUzNEJDOEQ3M0FENTEyMzQ1NwA=\",\n",
    "                                    \"timestamp\": \"1719552010\",\n",
    "                                    \"text\": {\n",
    "                                        \"body\": \"cual es mi nombre\"\n",
    "                                    },\n",
    "                                    \"type\": \"text\"\n",
    "                                }\n",
    "                            ]\n",
    "                        },\n",
    "                        \"field\": \"messages\"\n",
    "                    }\n",
    "                ]\n",
    "            }\n",
    "        ]\n",
    "}\n",
    "\n",
    "from whatsapp_apis import post_webhook\n",
    "\n",
    "post_webhook_instance = post_webhook.PostWebhook(body_)\n",
    "result = post_webhook_instance.main()"
   ]
  },
  {
   "cell_type": "code",
   "execution_count": 10,
   "metadata": {},
   "outputs": [
    {
     "data": {
      "text/plain": [
       "'{\"status_code\": 200, \"response\": \"Message sent\"}'"
      ]
     },
     "execution_count": 10,
     "metadata": {},
     "output_type": "execute_result"
    }
   ],
   "source": [
    "result"
   ]
  },
  {
   "cell_type": "code",
   "execution_count": null,
   "metadata": {},
   "outputs": [],
   "source": []
  }
 ],
 "metadata": {
  "kernelspec": {
   "display_name": "security",
   "language": "python",
   "name": "python3"
  },
  "language_info": {
   "codemirror_mode": {
    "name": "ipython",
    "version": 3
   },
   "file_extension": ".py",
   "mimetype": "text/x-python",
   "name": "python",
   "nbconvert_exporter": "python",
   "pygments_lexer": "ipython3",
   "version": "3.9.19"
  }
 },
 "nbformat": 4,
 "nbformat_minor": 2
}
